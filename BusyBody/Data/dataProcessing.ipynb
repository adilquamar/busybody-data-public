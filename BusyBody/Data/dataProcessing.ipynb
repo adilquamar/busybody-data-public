{
 "cells": [
  {
   "cell_type": "code",
   "execution_count": 23,
   "id": "12af7484",
   "metadata": {},
   "outputs": [],
   "source": [
    "from json import dump, load"
   ]
  },
  {
   "cell_type": "code",
   "execution_count": 24,
   "id": "45cf3b96-691b-4fe4-9731-be44597116b0",
   "metadata": {},
   "outputs": [],
   "source": [
    "def load_json(path: str) -> list:\n",
    "    file = open(path)\n",
    "    data = load(file)\n",
    "    file.close()\n",
    "    return data"
   ]
  },
  {
   "cell_type": "code",
   "execution_count": 25,
   "id": "90076b09-c401-46f7-a53f-082b722755ae",
   "metadata": {},
   "outputs": [],
   "source": [
    "def dump_json(path: str, data: list) -> None:\n",
    "    with open(path, 'w') as f_out:\n",
    "        dump(data, f_out, indent=4)"
   ]
  },
  {
   "cell_type": "markdown",
   "id": "bd1e59ee-c363-4e30-9aa6-3cf41262cc78",
   "metadata": {},
   "source": [
    "Process workout data"
   ]
  },
  {
   "cell_type": "code",
   "execution_count": 10,
   "id": "4a555564",
   "metadata": {},
   "outputs": [],
   "source": [
    "data = load_json('workouts.json')"
   ]
  },
  {
   "cell_type": "code",
   "execution_count": 13,
   "id": "62aba8c4",
   "metadata": {},
   "outputs": [],
   "source": [
    "processed_data = list()\n",
    "for d in data:\n",
    "    d['days_per_week'] = int(d['days_per_week'])\n",
    "    d['program_duration'] = int(d['program_duration'].replace(\" weeks\", \"\").replace(\" week\", \"\"))\n",
    "    wout_time = d['time_per_workout']\n",
    "    if '-' in wout_time:\n",
    "        l = wout_time.replace(\" minutes\", \"\").split(\"-\")\n",
    "        avg_wout_time = (int(l[0]) + int(l[1])) / 2\n",
    "        d['time_per_workout'] = avg_wout_time\n",
    "    else:\n",
    "        d['time_per_workout'] = int(d['time_per_workout'].replace(\" minutes\", \"\"))\n",
    "    \n",
    "    processed_data.append(d)"
   ]
  },
  {
   "cell_type": "code",
   "execution_count": 14,
   "id": "79be3425",
   "metadata": {},
   "outputs": [],
   "source": [
    "with open('workouts.json', 'w') as f_out:\n",
    "    json.dump(processed_data, f_out, indent=4)"
   ]
  },
  {
   "cell_type": "markdown",
   "id": "2494bd58-6b64-43ef-9a7a-85520f850934",
   "metadata": {},
   "source": [
    "Process recipe data"
   ]
  },
  {
   "cell_type": "code",
   "execution_count": 31,
   "id": "814fd7eb",
   "metadata": {},
   "outputs": [],
   "source": [
    "recipe_file = open('recipes.json')\n",
    "recipe_data = json.load(recipe_file)"
   ]
  },
  {
   "cell_type": "code",
   "execution_count": 32,
   "id": "9c1a9b30",
   "metadata": {},
   "outputs": [],
   "source": [
    "processed_data = list()\n",
    "for r in recipe_data:\n",
    "    try:\n",
    "        r['calories'] = float(r['calories'].replace('kcal', ''))\n",
    "        r['protein'] = float(r['protein'].replace('g', ''))\n",
    "        r['carbs'] = float(r['carbs'].replace('g', ''))\n",
    "        r['fat'] = float(r['fat'].replace('g', ''))\n",
    "        \n",
    "        processed_data.append(r)\n",
    "    \n",
    "    except KeyError: pass"
   ]
  },
  {
   "cell_type": "code",
   "execution_count": 33,
   "id": "05e47dc9",
   "metadata": {},
   "outputs": [],
   "source": [
    "with open('recipes.json', 'w') as f_out:\n",
    "    json.dump(processed_data, f_out, indent=4)"
   ]
  },
  {
   "cell_type": "markdown",
   "id": "c2668762-9491-48df-8c91-a0bb8e6fd928",
   "metadata": {},
   "source": [
    "Reformat Yelp Dataset"
   ]
  },
  {
   "cell_type": "code",
   "execution_count": 32,
   "id": "deb706ac-630d-481e-b0b7-39ec955905cf",
   "metadata": {},
   "outputs": [],
   "source": [
    "yelp_data_list = load_json('yelp.json')\n",
    "refined_yelp_data = list()\n",
    "for yelpData in yelp_data_list:\n",
    "    \n",
    "    refined_yelp_data.append({\n",
    "        'name': yelpData['name'], \n",
    "        'image_url': yelpData['image_url'], \n",
    "        'url': yelpData['url'], \n",
    "        'rating': yelpData['rating'], \n",
    "        'coordinates': yelpData['coordinates'], \n",
    "        'price_level': yelpData['price'] if 'price' in yelpData.keys() else None, \n",
    "        'address': yelpData['location']['display_address'], \n",
    "        'phone': yelpData['display_phone']\n",
    "    })\n",
    "dump_json(path='yelpSimple.json', data=refined_yelp_data)"
   ]
  },
  {
   "cell_type": "code",
   "execution_count": null,
   "id": "de7300ff-b785-433a-887b-7b8f33b5fc70",
   "metadata": {},
   "outputs": [],
   "source": []
  }
 ],
 "metadata": {
  "kernelspec": {
   "display_name": "Python 3 (ipykernel)",
   "language": "python",
   "name": "python3"
  },
  "language_info": {
   "codemirror_mode": {
    "name": "ipython",
    "version": 3
   },
   "file_extension": ".py",
   "mimetype": "text/x-python",
   "name": "python",
   "nbconvert_exporter": "python",
   "pygments_lexer": "ipython3",
   "version": "3.11.3"
  }
 },
 "nbformat": 4,
 "nbformat_minor": 5
}
